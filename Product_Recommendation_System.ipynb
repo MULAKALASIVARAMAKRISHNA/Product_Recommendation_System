{
 "cells": [
  {
   "cell_type": "code",
   "execution_count": 26,
   "metadata": {},
   "outputs": [
    {
     "name": "stdout",
     "output_type": "stream",
     "text": [
      "Real-Time Recommendations for User A39HTATAQ9V7YF: ['B001MA0QY2', 'B0009V1YR8', 'B0043OYFKU', 'B0000YUXI0', 'B003V265QW']\n"
     ]
    }
   ],
   "source": [
    "import pandas as pd\n",
    "import numpy as np\n",
    "from sklearn.neighbors import NearestNeighbors\n",
    "from scipy.sparse import csr_matrix\n",
    "\n",
    "# Load dataset\n",
    "file_path = 'C:/Users/asus/Desktop/E_Commerce_Recommedation_System/ratings_Beauty.csv'  # Update path if needed\n",
    "df = pd.read_csv(file_path, names=[\"UserID\", \"ProductID\", \"Rating\", \"Timestamp\"], skiprows=1)\n",
    "\n",
    "# Drop unnecessary columns\n",
    "df.drop(columns=[\"Timestamp\"], inplace=True)\n",
    "\n",
    "# Convert Rating to numeric & remove invalid ratings\n",
    "df[\"Rating\"] = pd.to_numeric(df[\"Rating\"], errors=\"coerce\")\n",
    "df = df.dropna(subset=[\"Rating\"])\n",
    "\n",
    "# Create mappings for UserID and ProductID\n",
    "user_map = {user: i for i, user in enumerate(df[\"UserID\"].unique())}\n",
    "product_map = {product: i for i, product in enumerate(df[\"ProductID\"].unique())}\n",
    "\n",
    "# Convert original IDs to numerical indices\n",
    "df[\"user_index\"] = df[\"UserID\"].map(user_map)\n",
    "df[\"product_index\"] = df[\"ProductID\"].map(product_map)\n",
    "\n",
    "# Create a sparse matrix (User-Product Interaction)\n",
    "sparse_matrix = csr_matrix(\n",
    "    (df[\"Rating\"], (df[\"user_index\"], df[\"product_index\"])), \n",
    "    shape=(len(user_map), len(product_map))\n",
    ")\n",
    "\n",
    "# Train KNN model (Collaborative Filtering)\n",
    "knn = NearestNeighbors(metric=\"cosine\", algorithm=\"brute\")\n",
    "knn.fit(sparse_matrix)\n",
    "\n",
    "# Reverse mapping for ProductID lookup\n",
    "reverse_product_map = {i: product for product, i in product_map.items()}\n",
    "\n",
    "# Find most popular products (for fallback)\n",
    "popular_products = df.groupby(\"ProductID\")[\"Rating\"].count().sort_values(ascending=False).index[:5].tolist()\n",
    "\n",
    "# Function to recommend products in real-time\n",
    "def recommend_real_time(user_id, top_n=5):\n",
    "    if user_id not in user_map:\n",
    "        return \"User not found.\"\n",
    "\n",
    "    user_index = user_map[user_id]\n",
    "\n",
    "    # Find nearest neighbors\n",
    "    distances, indices = knn.kneighbors(sparse_matrix[user_index], n_neighbors=top_n + 1)\n",
    "\n",
    "    # Get recommended product indices (excluding the user itself)\n",
    "    recommended_indices = indices.flatten()[1:]\n",
    "\n",
    "    # Convert numerical indices back to original ProductIDs, ensuring validity\n",
    "    recommended_products = [reverse_product_map[idx] for idx in recommended_indices if idx in reverse_product_map]\n",
    "\n",
    "    # Fallback to popular products if no valid recommendations\n",
    "    if not recommended_products:\n",
    "        recommended_products = popular_products\n",
    "\n",
    "    return recommended_products\n",
    "\n",
    "# Example Usage\n",
    "sample_user_id = df[\"UserID\"].iloc[0]  # Pick a random user\n",
    "recommended_products = recommend_real_time(sample_user_id)\n",
    "\n",
    "print(f\"Real-Time Recommendations for User {sample_user_id}: {recommended_products}\")\n"
   ]
  }
 ],
 "metadata": {
  "kernelspec": {
   "display_name": "base",
   "language": "python",
   "name": "python3"
  },
  "language_info": {
   "codemirror_mode": {
    "name": "ipython",
    "version": 3
   },
   "file_extension": ".py",
   "mimetype": "text/x-python",
   "name": "python",
   "nbconvert_exporter": "python",
   "pygments_lexer": "ipython3",
   "version": "3.11.7"
  }
 },
 "nbformat": 4,
 "nbformat_minor": 2
}
